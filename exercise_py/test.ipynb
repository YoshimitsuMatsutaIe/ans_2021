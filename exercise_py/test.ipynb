{
 "metadata": {
  "language_info": {
   "codemirror_mode": {
    "name": "ipython",
    "version": 3
   },
   "file_extension": ".py",
   "mimetype": "text/x-python",
   "name": "python",
   "nbconvert_exporter": "python",
   "pygments_lexer": "ipython3",
   "version": "3.8.8"
  },
  "orig_nbformat": 2,
  "kernelspec": {
   "name": "python388jvsc74a57bd0f4dfc3534a11df64ca8ab5b1d0d5f00bece38226cd6557b9a8a26359d97dd2dd",
   "display_name": "Python 3.8.8 64-bit ('base': conda)"
  }
 },
 "nbformat": 4,
 "nbformat_minor": 2,
 "cells": [
  {
   "cell_type": "code",
   "execution_count": 4,
   "metadata": {},
   "outputs": [
    {
     "output_type": "display_data",
     "data": {
      "text/plain": "⎡                                          dx                                 \n⎢                                                                             \n⎢        ⎛               2           ⎞                                        \n⎢      4⋅⎝-Dx⋅dx + dtheta ⋅l⋅m⋅sin(θ)⎠   3⋅(-Dtheta + dtheta + g⋅l⋅m⋅sin(θ))⋅c\n⎢    - ─────────────────────────────── + ─────────────────────────────────────\n⎢                        2                                       2            \n⎢          -4⋅M + 3⋅m⋅cos (θ) - 4⋅m            -4⋅M⋅l + 3⋅l⋅m⋅cos (θ) - 4⋅l⋅m \n⎢                                                                             \n⎢                                        dtheta                               \n⎢                                                                             \n⎢                                                   ⎛               2         \n⎢(-3⋅M - 3⋅m)⋅(-Dtheta + dtheta + g⋅l⋅m⋅sin(θ))   3⋅⎝-Dx⋅dx + dtheta ⋅l⋅m⋅sin(\n⎢────────────────────────────────────────────── + ────────────────────────────\n⎢           2        2  2    2         2  2                             2     \n⎣    - 4⋅M⋅l ⋅m + 3⋅l ⋅m ⋅cos (θ) - 4⋅l ⋅m            -4⋅M⋅l + 3⋅l⋅m⋅cos (θ) -\n\n          ⎤\n          ⎥\n          ⎥\nos(θ)     ⎥\n─────     ⎥\n          ⎥\n          ⎥\n          ⎥\n          ⎥\n          ⎥\n  ⎞       ⎥\nθ)⎠⋅cos(θ)⎥\n──────────⎥\n          ⎥\n 4⋅l⋅m    ⎦",
      "text/latex": "$\\displaystyle \\left[\\begin{matrix}dx\\\\- \\frac{4 \\left(- Dx dx + dtheta^{2} l m \\sin{\\left(\\theta \\right)}\\right)}{- 4 M + 3 m \\cos^{2}{\\left(\\theta \\right)} - 4 m} + \\frac{3 \\left(- Dtheta + dtheta + g l m \\sin{\\left(\\theta \\right)}\\right) \\cos{\\left(\\theta \\right)}}{- 4 M l + 3 l m \\cos^{2}{\\left(\\theta \\right)} - 4 l m}\\\\dtheta\\\\\\frac{\\left(- 3 M - 3 m\\right) \\left(- Dtheta + dtheta + g l m \\sin{\\left(\\theta \\right)}\\right)}{- 4 M l^{2} m + 3 l^{2} m^{2} \\cos^{2}{\\left(\\theta \\right)} - 4 l^{2} m^{2}} + \\frac{3 \\left(- Dx dx + dtheta^{2} l m \\sin{\\left(\\theta \\right)}\\right) \\cos{\\left(\\theta \\right)}}{- 4 M l + 3 l m \\cos^{2}{\\left(\\theta \\right)} - 4 l m}\\end{matrix}\\right]$"
     },
     "metadata": {}
    },
    {
     "output_type": "display_data",
     "data": {
      "text/plain": "⎡              0               ⎤\n⎢                              ⎥\n⎢             -4               ⎥\n⎢   ────────────────────────   ⎥\n⎢                 2            ⎥\n⎢   -4⋅M + 3⋅m⋅cos (θ) - 4⋅m   ⎥\n⎢                              ⎥\n⎢              0               ⎥\n⎢                              ⎥\n⎢           3⋅cos(θ)           ⎥\n⎢──────────────────────────────⎥\n⎢                  2           ⎥\n⎣-4⋅M⋅l + 3⋅l⋅m⋅cos (θ) - 4⋅l⋅m⎦",
      "text/latex": "$\\displaystyle \\left[\\begin{matrix}0\\\\- \\frac{4}{- 4 M + 3 m \\cos^{2}{\\left(\\theta \\right)} - 4 m}\\\\0\\\\\\frac{3 \\cos{\\left(\\theta \\right)}}{- 4 M l + 3 l m \\cos^{2}{\\left(\\theta \\right)} - 4 l m}\\end{matrix}\\right]$"
     },
     "metadata": {}
    }
   ],
   "source": [
    "import sympy as sy\n",
    "\n",
    "sy.init_printing()\n",
    "\n",
    "x, dx, theta, dtheta, m, M, l, Dx, Dtheta, g= sy.symbols('x, dx, theta, dtheta, m, M, l, Dx, Dtheta, g')\n",
    "\n",
    "multi = sy.Matrix([\n",
    "    [1, 0, 0, 0],\n",
    "    [0, 0, 1, 0],\n",
    "    [0, M + m, 0, m*l*sy.cos(theta)],\n",
    "    [0, m*l*sy.cos(theta), 0, sy.Rational(4,3)*m*l**2],\n",
    "])\n",
    "offset_x = sy.Matrix([\n",
    "    [dx],\n",
    "    [dtheta],\n",
    "    [m*l*dtheta**2*sy.sin(theta) - Dx * dx],\n",
    "    [m*g*l*sy.sin(theta) - Dtheta + dtheta],\n",
    "])\n",
    "offset_u = sy.Matrix([[0, 0, 1, 0]]).T\n",
    "\n",
    "Fa = multi.inv() * offset_x\n",
    "Fb = multi.inv() * offset_u\n",
    "\n",
    "display(Fa)\n",
    "display(Fb)"
   ]
  },
  {
   "cell_type": "code",
   "execution_count": null,
   "metadata": {},
   "outputs": [],
   "source": [
    "multi_li = sy.Matrix([\n",
    "    [1, 0, 0, 0],\n",
    "    [0, 0, 1, 0],\n",
    "    [0, M+m, 0, m*l],\n",
    "    [0, m*l, 0, sy.Rational(4,3)*m*l**2],\n",
    "])\n",
    "offset_x_li = sy.Matrix([\n",
    "    [0, 1, 0, 0],\n",
    "    [0, 0, 0, 1],\n",
    "    [0, -Dx, 0, 0],\n",
    "    [0, 0, m*g*l, -Dtheta],\n",
    "])\n",
    "\n",
    "A = multi_li.inv() * offset_x_li\n",
    "B = multi_li.inv() * offset_u\n",
    "\n",
    "display(A)\n",
    "display(B)"
   ]
  }
 ]
}