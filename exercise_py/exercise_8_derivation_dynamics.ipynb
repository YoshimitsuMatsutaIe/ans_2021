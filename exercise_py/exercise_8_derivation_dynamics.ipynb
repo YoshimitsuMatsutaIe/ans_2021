{
 "cells": [
  {
   "cell_type": "markdown",
   "metadata": {},
   "source": [
    "# 倒立振子のダイナミクスを導出\n",
    "ラグランジュの運動方程式から導出"
   ]
  },
  {
   "cell_type": "code",
   "execution_count": 78,
   "metadata": {},
   "outputs": [],
   "source": [
    "import sympy as sy\n",
    "from sympy import cos, sin"
   ]
  },
  {
   "cell_type": "markdown",
   "metadata": {},
   "source": [
    "## 必要なシンボリック文字を用意"
   ]
  },
  {
   "cell_type": "code",
   "execution_count": 79,
   "metadata": {},
   "outputs": [],
   "source": [
    "t = sy.Symbol(\"t\")  # 時刻\n",
    "M = sy.Symbol(\"M\")  # 台車の質量\n",
    "m = sy.Symbol(\"m\")  # 振り子の質量\n",
    "l = sy.Symbol(\"l\")  # 長さ\n",
    "L = 2*l\n",
    "g = sy.Symbol(\"g\")  # 重力加速度\n",
    "D_theta, D_x = sy.symbols(\"D_theta, D_x\")  # 回転方向と並進方向の摩擦係数\n",
    "\n",
    "x= sy.Function(\"x\")  # 台車の位置\n",
    "theta = sy.Function(\"theta\")  # 振り子の角度\n",
    "u = sy.Symbol(\"u\")  # 制御入力\n"
   ]
  },
  {
   "cell_type": "markdown",
   "metadata": {},
   "source": [
    "エネルギー"
   ]
  },
  {
   "cell_type": "code",
   "execution_count": 80,
   "metadata": {},
   "outputs": [
    {
     "data": {
      "text/latex": [
       "$\\displaystyle 0.666666666666667 l^{2} m \\left(\\frac{d}{d t} \\theta{\\left(t \\right)}\\right)^{2} + l m \\cos{\\left(\\theta{\\left(t \\right)} \\right)} \\frac{d}{d t} \\theta{\\left(t \\right)} \\frac{d}{d t} x{\\left(t \\right)} + \\left(0.5 M + 0.5 m\\right) \\left(\\frac{d}{d t} x{\\left(t \\right)}\\right)^{2}$"
      ],
      "text/plain": [
       "0.666666666666667*l**2*m*Derivative(theta(t), t)**2 + l*m*cos(theta(t))*Derivative(theta(t), t)*Derivative(x(t), t) + (0.5*M + 0.5*m)*Derivative(x(t), t)**2"
      ]
     },
     "execution_count": 80,
     "metadata": {},
     "output_type": "execute_result"
    }
   ],
   "source": [
    "# 運動エネルギー\n",
    "K = 2/3*m*l**2*sy.Derivative(theta(t), t)**2 +\\\n",
    "    m*l*sy.Derivative(x(t), t)*sy.Derivative(theta(t), t)*cos(theta(t)) +\\\n",
    "        1/2*(M+m)*sy.Derivative(x(t), t)**2\n",
    "K"
   ]
  },
  {
   "cell_type": "code",
   "execution_count": 81,
   "metadata": {},
   "outputs": [
    {
     "data": {
      "text/latex": [
       "$\\displaystyle g l m \\cos{\\left(\\theta{\\left(t \\right)} \\right)}$"
      ],
      "text/plain": [
       "g*l*m*cos(theta(t))"
      ]
     },
     "execution_count": 81,
     "metadata": {},
     "output_type": "execute_result"
    }
   ],
   "source": [
    "# ポテンシャルエネルギー\n",
    "U = m*g*l*cos(theta(t))\n",
    "U"
   ]
  },
  {
   "cell_type": "code",
   "execution_count": 82,
   "metadata": {},
   "outputs": [
    {
     "data": {
      "text/latex": [
       "$\\displaystyle 0.5 D_{\\theta} \\left(\\frac{d}{d t} \\theta{\\left(t \\right)}\\right)^{2} + 0.5 D_{x} \\left(\\frac{d}{d t} x{\\left(t \\right)}\\right)^{2}$"
      ],
      "text/plain": [
       "0.5*D_theta*Derivative(theta(t), t)**2 + 0.5*D_x*Derivative(x(t), t)**2"
      ]
     },
     "execution_count": 82,
     "metadata": {},
     "output_type": "execute_result"
    }
   ],
   "source": [
    "# 損失エネルギー\n",
    "D = 1/2*D_theta*sy.Derivative(theta(t), t)**2 + 1/2*D_x*sy.Derivative(x(t), t)**2\n",
    "D"
   ]
  },
  {
   "cell_type": "markdown",
   "metadata": {},
   "source": [
    "## ラグランジュの運動方程式に代入\n",
    "### x方向"
   ]
  },
  {
   "cell_type": "code",
   "execution_count": 83,
   "metadata": {},
   "outputs": [
    {
     "data": {
      "text/latex": [
       "$\\displaystyle - l m \\sin{\\left(\\theta{\\left(t \\right)} \\right)} \\left(\\frac{d}{d t} \\theta{\\left(t \\right)}\\right)^{2} + l m \\cos{\\left(\\theta{\\left(t \\right)} \\right)} \\frac{d^{2}}{d t^{2}} \\theta{\\left(t \\right)} + \\left(M + m\\right) \\frac{d^{2}}{d t^{2}} x{\\left(t \\right)}$"
      ],
      "text/plain": [
       "-l*m*sin(theta(t))*Derivative(theta(t), t)**2 + l*m*cos(theta(t))*Derivative(theta(t), (t, 2)) + (M + m)*Derivative(x(t), (t, 2))"
      ]
     },
     "execution_count": 83,
     "metadata": {},
     "output_type": "execute_result"
    }
   ],
   "source": [
    "dKdv = sy.diff(K, sy.Derivative(x(t), t))\n",
    "dKdv_dot = sy.diff(dKdv, t)\n",
    "dKdv_dot"
   ]
  },
  {
   "cell_type": "code",
   "execution_count": 84,
   "metadata": {},
   "outputs": [
    {
     "data": {
      "text/latex": [
       "$\\displaystyle 0$"
      ],
      "text/plain": [
       "0"
      ]
     },
     "execution_count": 84,
     "metadata": {},
     "output_type": "execute_result"
    }
   ],
   "source": [
    "dKdx = sy.diff(K, x(t))\n",
    "dKdx"
   ]
  },
  {
   "cell_type": "code",
   "execution_count": 85,
   "metadata": {},
   "outputs": [
    {
     "data": {
      "text/latex": [
       "$\\displaystyle 0$"
      ],
      "text/plain": [
       "0"
      ]
     },
     "execution_count": 85,
     "metadata": {},
     "output_type": "execute_result"
    }
   ],
   "source": [
    "dUdx = sy.diff(U, x(t))\n",
    "dUdx"
   ]
  },
  {
   "cell_type": "code",
   "execution_count": 86,
   "metadata": {},
   "outputs": [
    {
     "data": {
      "text/latex": [
       "$\\displaystyle 1.0 D_{x} \\frac{d}{d t} x{\\left(t \\right)}$"
      ],
      "text/plain": [
       "1.0*D_x*Derivative(x(t), t)"
      ]
     },
     "execution_count": 86,
     "metadata": {},
     "output_type": "execute_result"
    }
   ],
   "source": [
    "dDdv = sy.diff(D, sy.Derivative(x(t), t))\n",
    "dDdv"
   ]
  },
  {
   "cell_type": "code",
   "execution_count": 87,
   "metadata": {},
   "outputs": [
    {
     "data": {
      "text/latex": [
       "$\\displaystyle u$"
      ],
      "text/plain": [
       "u"
      ]
     },
     "execution_count": 87,
     "metadata": {},
     "output_type": "execute_result"
    }
   ],
   "source": [
    "u_x = u\n",
    "u_x"
   ]
  },
  {
   "cell_type": "markdown",
   "metadata": {},
   "source": [
    "### theta方向"
   ]
  },
  {
   "cell_type": "code",
   "execution_count": 88,
   "metadata": {},
   "outputs": [
    {
     "data": {
      "text/latex": [
       "$\\displaystyle 1.33333333333333 l^{2} m \\frac{d^{2}}{d t^{2}} \\theta{\\left(t \\right)} - l m \\sin{\\left(\\theta{\\left(t \\right)} \\right)} \\frac{d}{d t} \\theta{\\left(t \\right)} \\frac{d}{d t} x{\\left(t \\right)} + l m \\cos{\\left(\\theta{\\left(t \\right)} \\right)} \\frac{d^{2}}{d t^{2}} x{\\left(t \\right)}$"
      ],
      "text/plain": [
       "1.33333333333333*l**2*m*Derivative(theta(t), (t, 2)) - l*m*sin(theta(t))*Derivative(theta(t), t)*Derivative(x(t), t) + l*m*cos(theta(t))*Derivative(x(t), (t, 2))"
      ]
     },
     "execution_count": 88,
     "metadata": {},
     "output_type": "execute_result"
    }
   ],
   "source": [
    "dKdomega = sy.diff(K, sy.Derivative(theta(t), t))\n",
    "dKdomega_dot = sy.diff(dKdomega, t)\n",
    "dKdomega_dot"
   ]
  },
  {
   "cell_type": "code",
   "execution_count": 89,
   "metadata": {},
   "outputs": [
    {
     "data": {
      "text/latex": [
       "$\\displaystyle - l m \\sin{\\left(\\theta{\\left(t \\right)} \\right)} \\frac{d}{d t} \\theta{\\left(t \\right)} \\frac{d}{d t} x{\\left(t \\right)}$"
      ],
      "text/plain": [
       "-l*m*sin(theta(t))*Derivative(theta(t), t)*Derivative(x(t), t)"
      ]
     },
     "execution_count": 89,
     "metadata": {},
     "output_type": "execute_result"
    }
   ],
   "source": [
    "dKdtheta = sy.diff(K, theta(t))\n",
    "dKdtheta"
   ]
  },
  {
   "cell_type": "code",
   "execution_count": 90,
   "metadata": {},
   "outputs": [
    {
     "data": {
      "text/latex": [
       "$\\displaystyle - g l m \\sin{\\left(\\theta{\\left(t \\right)} \\right)}$"
      ],
      "text/plain": [
       "-g*l*m*sin(theta(t))"
      ]
     },
     "execution_count": 90,
     "metadata": {},
     "output_type": "execute_result"
    }
   ],
   "source": [
    "dUdtheta = sy.diff(U, theta(t))\n",
    "dUdtheta"
   ]
  },
  {
   "cell_type": "code",
   "execution_count": 91,
   "metadata": {},
   "outputs": [
    {
     "data": {
      "text/latex": [
       "$\\displaystyle 1.0 D_{\\theta} \\frac{d}{d t} \\theta{\\left(t \\right)}$"
      ],
      "text/plain": [
       "1.0*D_theta*Derivative(theta(t), t)"
      ]
     },
     "execution_count": 91,
     "metadata": {},
     "output_type": "execute_result"
    }
   ],
   "source": [
    "dDdomega = sy.diff(D, sy.Derivative(theta(t), t))\n",
    "dDdomega"
   ]
  },
  {
   "cell_type": "code",
   "execution_count": 92,
   "metadata": {},
   "outputs": [
    {
     "data": {
      "text/plain": [
       "0"
      ]
     },
     "execution_count": 92,
     "metadata": {},
     "output_type": "execute_result"
    }
   ],
   "source": [
    "u_theta = 0\n",
    "u_theta"
   ]
  },
  {
   "cell_type": "markdown",
   "metadata": {},
   "source": [
    "まとめて式整理"
   ]
  },
  {
   "cell_type": "code",
   "execution_count": 93,
   "metadata": {},
   "outputs": [],
   "source": [
    "f_x = dKdv_dot - dKdx + dUdx + dDdv - u_x\n",
    "f_theta = dKdomega_dot - dKdtheta + dUdtheta + dDdomega - u_theta"
   ]
  },
  {
   "cell_type": "code",
   "execution_count": 94,
   "metadata": {},
   "outputs": [
    {
     "data": {
      "text/latex": [
       "$\\displaystyle - \\frac{D_{x} \\frac{d}{d t} x{\\left(t \\right)}}{M + m} + \\frac{l m \\sin{\\left(\\theta{\\left(t \\right)} \\right)} \\left(\\frac{d}{d t} \\theta{\\left(t \\right)}\\right)^{2}}{M + m} - \\frac{l m \\cos{\\left(\\theta{\\left(t \\right)} \\right)} \\frac{d^{2}}{d t^{2}} \\theta{\\left(t \\right)}}{M + m} + \\frac{u}{M + m}$"
      ],
      "text/plain": [
       "-D_x*Derivative(x(t), t)/(M + m) + l*m*sin(theta(t))*Derivative(theta(t), t)**2/(M + m) - l*m*cos(theta(t))*Derivative(theta(t), (t, 2))/(M + m) + u/(M + m)"
      ]
     },
     "execution_count": 94,
     "metadata": {},
     "output_type": "execute_result"
    }
   ],
   "source": [
    "sol_1 = sy.solve(f_x, sy.Derivative(sy.Derivative(x(t), t), t))\n",
    "sol_1[0].expand()"
   ]
  },
  {
   "cell_type": "code",
   "execution_count": 95,
   "metadata": {},
   "outputs": [
    {
     "data": {
      "text/latex": [
       "$\\displaystyle - \\frac{0.75 D_{\\theta} \\frac{d}{d t} \\theta{\\left(t \\right)}}{l^{2} m} + \\frac{0.75 g \\sin{\\left(\\theta{\\left(t \\right)} \\right)}}{l} - \\frac{0.75 \\cos{\\left(\\theta{\\left(t \\right)} \\right)} \\frac{d^{2}}{d t^{2}} x{\\left(t \\right)}}{l}$"
      ],
      "text/plain": [
       "-0.75*D_theta*Derivative(theta(t), t)/(l**2*m) + 0.75*g*sin(theta(t))/l - 0.75*cos(theta(t))*Derivative(x(t), (t, 2))/l"
      ]
     },
     "execution_count": 95,
     "metadata": {},
     "output_type": "execute_result"
    }
   ],
   "source": [
    "sol_2 = sy.solve(f_theta, sy.Derivative(sy.Derivative(theta(t), t), t))\n",
    "sol_2[0].expand()"
   ]
  }
 ],
 "metadata": {
  "interpreter": {
   "hash": "f4dfc3534a11df64ca8ab5b1d0d5f00bece38226cd6557b9a8a26359d97dd2dd"
  },
  "kernelspec": {
   "display_name": "Python 3.8.8 64-bit ('base': conda)",
   "language": "python",
   "name": "python3"
  },
  "language_info": {
   "codemirror_mode": {
    "name": "ipython",
    "version": 3
   },
   "file_extension": ".py",
   "mimetype": "text/x-python",
   "name": "python",
   "nbconvert_exporter": "python",
   "pygments_lexer": "ipython3",
   "version": "3.8.8"
  },
  "orig_nbformat": 4
 },
 "nbformat": 4,
 "nbformat_minor": 2
}
