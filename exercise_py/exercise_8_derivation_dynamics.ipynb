{
 "cells": [
  {
   "cell_type": "markdown",
   "metadata": {},
   "source": [
    "# 倒立振子のダイナミクスを導出\n",
    "ラグランジュの運動方程式から導出"
   ]
  },
  {
   "cell_type": "code",
   "execution_count": 5,
   "metadata": {},
   "outputs": [],
   "source": [
    "import sympy as sy\n",
    "from sympy import cos, sin"
   ]
  },
  {
   "cell_type": "markdown",
   "metadata": {},
   "source": [
    "## 必要なシンボリック文字を用意"
   ]
  },
  {
   "cell_type": "code",
   "execution_count": 6,
   "metadata": {},
   "outputs": [],
   "source": [
    "M = sy.Symbol(\"M\")\n",
    "m = sy.Symbol(\"m\")\n",
    "l = sy.Symbol(\"l\")\n",
    "L = 2*l\n",
    "g = sy.Symbol(\"g\")\n",
    "\n",
    "x, v, theta, omega = sy.symbols(\"x, v, theta, omega\")\n",
    "D_theta, D_x = sy.symbols(\"D_theta, D_x\")"
   ]
  },
  {
   "cell_type": "markdown",
   "metadata": {},
   "source": [
    "エネルギー"
   ]
  },
  {
   "cell_type": "code",
   "execution_count": 7,
   "metadata": {},
   "outputs": [
    {
     "data": {
      "text/latex": [
       "$\\displaystyle 0.666666666666667 l^{2} m \\omega^{2} + l m \\omega v \\cos{\\left(\\theta \\right)} + v^{2} \\left(0.5 M + 0.5 m\\right)$"
      ],
      "text/plain": [
       "0.666666666666667*l**2*m*omega**2 + l*m*omega*v*cos(theta) + v**2*(0.5*M + 0.5*m)"
      ]
     },
     "execution_count": 7,
     "metadata": {},
     "output_type": "execute_result"
    }
   ],
   "source": [
    "# 運動エネルギー\n",
    "K = 2/3*m*l**2*omega**2 + m*l*v*omega*cos(theta) + 1/2*(M+m)*v**2\n",
    "K"
   ]
  },
  {
   "cell_type": "code",
   "execution_count": 8,
   "metadata": {},
   "outputs": [
    {
     "data": {
      "text/latex": [
       "$\\displaystyle g l m \\cos{\\left(\\theta \\right)}$"
      ],
      "text/plain": [
       "g*l*m*cos(theta)"
      ]
     },
     "execution_count": 8,
     "metadata": {},
     "output_type": "execute_result"
    }
   ],
   "source": [
    "# ポテンシャルエネルギー\n",
    "U = m*g*l*cos(theta)\n",
    "U"
   ]
  },
  {
   "cell_type": "code",
   "execution_count": 9,
   "metadata": {},
   "outputs": [
    {
     "data": {
      "text/latex": [
       "$\\displaystyle 0.5 D_{\\theta} \\omega^{2} + 0.5 D_{x} v^{2}$"
      ],
      "text/plain": [
       "0.5*D_theta*omega**2 + 0.5*D_x*v**2"
      ]
     },
     "execution_count": 9,
     "metadata": {},
     "output_type": "execute_result"
    }
   ],
   "source": [
    "# 損失エネルギー\n",
    "D = 1/2*D_theta*omega**2 + 1/2*D_x*v**2\n",
    "D"
   ]
  }
 ],
 "metadata": {
  "interpreter": {
   "hash": "f4dfc3534a11df64ca8ab5b1d0d5f00bece38226cd6557b9a8a26359d97dd2dd"
  },
  "kernelspec": {
   "display_name": "Python 3.8.8 64-bit ('base': conda)",
   "language": "python",
   "name": "python3"
  },
  "language_info": {
   "codemirror_mode": {
    "name": "ipython",
    "version": 3
   },
   "file_extension": ".py",
   "mimetype": "text/x-python",
   "name": "python",
   "nbconvert_exporter": "python",
   "pygments_lexer": "ipython3",
   "version": "3.8.8"
  },
  "orig_nbformat": 4
 },
 "nbformat": 4,
 "nbformat_minor": 2
}
