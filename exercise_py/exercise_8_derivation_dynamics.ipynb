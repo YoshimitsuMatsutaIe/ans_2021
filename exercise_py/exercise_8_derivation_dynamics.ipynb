{
 "cells": [
  {
   "cell_type": "markdown",
   "metadata": {},
   "source": [
    "# 倒立振子のダイナミクスを導出\n",
    "ラグランジュの運動方程式から導出"
   ]
  },
  {
   "cell_type": "code",
   "execution_count": 20,
   "metadata": {},
   "outputs": [],
   "source": [
    "import sympy as sy\n",
    "from sympy import cos, sin"
   ]
  },
  {
   "cell_type": "markdown",
   "metadata": {},
   "source": [
    "## 必要なシンボリック文字を用意"
   ]
  },
  {
   "cell_type": "code",
   "execution_count": 21,
   "metadata": {},
   "outputs": [],
   "source": [
    "t = sy.Symbol(\"t\")  # 時刻\n",
    "M = sy.Symbol(\"M\")  # 台車の質量\n",
    "m = sy.Symbol(\"m\")  # 振り子の質量\n",
    "l = sy.Symbol(\"l\")  # 長さ\n",
    "L = 2*l\n",
    "g = sy.Symbol(\"g\")  # 重力加速度\n",
    "D_theta, D_x = sy.symbols(\"D_theta, D_x\")  # 回転方向と並進方向の摩擦係数\n",
    "\n",
    "x= sy.Function(\"x\")  # 台車の位置\n",
    "theta = sy.Function(\"theta\")  # 振り子の角度\n"
   ]
  },
  {
   "cell_type": "markdown",
   "metadata": {},
   "source": [
    "エネルギー"
   ]
  },
  {
   "cell_type": "code",
   "execution_count": 22,
   "metadata": {},
   "outputs": [
    {
     "data": {
      "text/latex": [
       "$\\displaystyle 0.666666666666667 l^{2} m \\left(\\frac{d}{d t} \\theta{\\left(t \\right)}\\right)^{2} + l m \\cos{\\left(\\theta{\\left(t \\right)} \\right)} \\frac{d}{d t} \\theta{\\left(t \\right)} \\frac{d}{d t} x{\\left(t \\right)} + \\left(0.5 M + 0.5 m\\right) \\left(\\frac{d}{d t} x{\\left(t \\right)}\\right)^{2}$"
      ],
      "text/plain": [
       "0.666666666666667*l**2*m*Derivative(theta(t), t)**2 + l*m*cos(theta(t))*Derivative(theta(t), t)*Derivative(x(t), t) + (0.5*M + 0.5*m)*Derivative(x(t), t)**2"
      ]
     },
     "execution_count": 22,
     "metadata": {},
     "output_type": "execute_result"
    }
   ],
   "source": [
    "# 運動エネルギー\n",
    "K = 2/3*m*l**2*sy.Derivative(theta(t), t)**2 +\\\n",
    "    m*l*sy.Derivative(x(t), t)*sy.Derivative(theta(t), t)*cos(theta(t)) +\\\n",
    "        1/2*(M+m)*sy.Derivative(x(t), t)**2\n",
    "K"
   ]
  },
  {
   "cell_type": "code",
   "execution_count": 23,
   "metadata": {},
   "outputs": [
    {
     "data": {
      "text/latex": [
       "$\\displaystyle g l m \\cos{\\left(\\theta{\\left(t \\right)} \\right)}$"
      ],
      "text/plain": [
       "g*l*m*cos(theta(t))"
      ]
     },
     "execution_count": 23,
     "metadata": {},
     "output_type": "execute_result"
    }
   ],
   "source": [
    "# ポテンシャルエネルギー\n",
    "U = m*g*l*cos(theta(t))\n",
    "U"
   ]
  },
  {
   "cell_type": "code",
   "execution_count": 24,
   "metadata": {},
   "outputs": [
    {
     "data": {
      "text/latex": [
       "$\\displaystyle 0.5 D_{\\theta} \\left(\\frac{d}{d t} \\theta{\\left(t \\right)}\\right)^{2} + 0.5 D_{x} \\left(\\frac{d}{d t} x{\\left(t \\right)}\\right)^{2}$"
      ],
      "text/plain": [
       "0.5*D_theta*Derivative(theta(t), t)**2 + 0.5*D_x*Derivative(x(t), t)**2"
      ]
     },
     "execution_count": 24,
     "metadata": {},
     "output_type": "execute_result"
    }
   ],
   "source": [
    "# 損失エネルギー\n",
    "D = 1/2*D_theta*sy.Derivative(theta(t), t)**2 + 1/2*D_x*sy.Derivative(x(t), t)**2\n",
    "D"
   ]
  },
  {
   "cell_type": "markdown",
   "metadata": {},
   "source": [
    "ラグランジュの運動方程式に代入"
   ]
  },
  {
   "cell_type": "code",
   "execution_count": 27,
   "metadata": {},
   "outputs": [
    {
     "data": {
      "text/latex": [
       "$\\displaystyle - l m \\sin{\\left(\\theta{\\left(t \\right)} \\right)} \\left(\\frac{d}{d t} \\theta{\\left(t \\right)}\\right)^{2} + l m \\cos{\\left(\\theta{\\left(t \\right)} \\right)} \\frac{d^{2}}{d t^{2}} \\theta{\\left(t \\right)} + \\left(M + m\\right) \\frac{d^{2}}{d t^{2}} x{\\left(t \\right)}$"
      ],
      "text/plain": [
       "-l*m*sin(theta(t))*Derivative(theta(t), t)**2 + l*m*cos(theta(t))*Derivative(theta(t), (t, 2)) + (M + m)*Derivative(x(t), (t, 2))"
      ]
     },
     "execution_count": 27,
     "metadata": {},
     "output_type": "execute_result"
    }
   ],
   "source": [
    "dKdv = sy.diff(K, sy.Derivative(x(t), t))\n",
    "dKdv_dot = sy.diff(dKdv, t)\n",
    "dKdv_dot"
   ]
  },
  {
   "cell_type": "code",
   "execution_count": null,
   "metadata": {},
   "outputs": [],
   "source": []
  }
 ],
 "metadata": {
  "interpreter": {
   "hash": "f4dfc3534a11df64ca8ab5b1d0d5f00bece38226cd6557b9a8a26359d97dd2dd"
  },
  "kernelspec": {
   "display_name": "Python 3.8.8 64-bit ('base': conda)",
   "language": "python",
   "name": "python3"
  },
  "language_info": {
   "codemirror_mode": {
    "name": "ipython",
    "version": 3
   },
   "file_extension": ".py",
   "mimetype": "text/x-python",
   "name": "python",
   "nbconvert_exporter": "python",
   "pygments_lexer": "ipython3",
   "version": "3.8.8"
  },
  "orig_nbformat": 4
 },
 "nbformat": 4,
 "nbformat_minor": 2
}
