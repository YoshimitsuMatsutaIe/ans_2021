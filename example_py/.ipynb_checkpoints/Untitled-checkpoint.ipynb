{
 "cells": [
  {
   "cell_type": "code",
   "execution_count": 4,
   "id": "709d17ac",
   "metadata": {},
   "outputs": [
    {
     "data": {
      "image/png": "[encoded data removed]",
      "text/plain": [
       "<Figure size 432x288 with 1 Axes>"
      ]
     },
     "metadata": {
      "needs_background": "light"
     },
     "output_type": "display_data"
    }
   ],
   "source": [
    "### SciPyを使った実装 ###\n",
    "import numpy as np\n",
    "from scipy.integrate import odeint\n",
    "import matplotlib.pyplot as plt\n",
    "\n",
    "def diff_eq(x, t, a):\n",
    "    \"\"\"微分方程式\"\"\"\n",
    "    return a * x\n",
    "\n",
    "def example_2():\n",
    "    time_list = np.linspace(0.0, 2.0, 100)  # 時間のリスト\n",
    "    x_init = [1.0]  # 初期値\n",
    "    \n",
    "    a = 1\n",
    "    \n",
    "    # 解く\n",
    "    sol = odeint(\n",
    "        func = diff_eq,\n",
    "        y0 = x_init,\n",
    "        t = time_list,\n",
    "        args = (a,)\n",
    "    )  # scipy.integrate.odeintソルバー．他のソルバーもある．\n",
    "    \n",
    "    # グラフ化\n",
    "    fig = plt.figure()  # figureインスタンスを作成\n",
    "    ax = fig.add_subplot(111)  #figureオブジェクトにaxesを追加\n",
    "    ax.plot(time_list, sol, label = \"solution\")  # プロットを入れる\n",
    "    ax.set_xlabel('time')  # x軸にラベルを追加\n",
    "    ax.set_ylabel('x')  # y軸にラベルを追加\n",
    "    ax.grid(True)  # グリッドを入れる\n",
    "    ax.legend()  # 凡例を入れる\n",
    "    ax.set_aspect('equal', adjustable='box')  # 軸を揃える\n",
    "    \n",
    "    plt.show()  # プロットを表示\n",
    "\n",
    "\n",
    "if __name__ == '__main__':\n",
    "    example_2()"
   ]
  },
  {
   "cell_type": "code",
   "execution_count": 5,
   "id": "63e61aa1",
   "metadata": {},
   "outputs": [
    {
     "ename": "NameError",
     "evalue": "name 'example2' is not defined",
     "output_type": "error",
     "traceback": [
      "\u001b[1;31m---------------------------------------------------------------------------\u001b[0m",
      "\u001b[1;31mNameError\u001b[0m                                 Traceback (most recent call last)",
      "\u001b[1;32m<ipython-input-5-c8043c0b94e6>\u001b[0m in \u001b[0;36m<module>\u001b[1;34m\u001b[0m\n\u001b[1;32m----> 1\u001b[1;33m \u001b[0mexample2\u001b[0m\u001b[1;33m(\u001b[0m\u001b[1;33m)\u001b[0m\u001b[1;33m.\u001b[0m\u001b[0msol\u001b[0m\u001b[1;33m\u001b[0m\u001b[1;33m\u001b[0m\u001b[0m\n\u001b[0m",
      "\u001b[1;31mNameError\u001b[0m: name 'example2' is not defined"
     ]
    }
   ],
   "source": []
  },
  {
   "cell_type": "code",
   "execution_count": null,
   "id": "eff54769",
   "metadata": {},
   "outputs": [],
   "source": []
  }
 ],
 "metadata": {
  "kernelspec": {
   "display_name": "Python 3",
   "language": "python",
   "name": "python3"
  },
  "language_info": {
   "codemirror_mode": {
    "name": "ipython",
    "version": 3
   },
   "file_extension": ".py",
   "mimetype": "text/x-python",
   "name": "python",
   "nbconvert_exporter": "python",
   "pygments_lexer": "ipython3",
   "version": "3.8.8"
  }
 },
 "nbformat": 4,
 "nbformat_minor": 5
}
